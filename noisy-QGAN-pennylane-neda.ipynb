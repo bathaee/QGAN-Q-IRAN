{
 "cells": [
  {
   "cell_type": "code",
   "execution_count": 1,
   "id": "c8a88586",
   "metadata": {},
   "outputs": [
    {
     "name": "stderr",
     "output_type": "stream",
     "text": [
      "2023-06-07 14:42:14.122192: I tensorflow/core/platform/cpu_feature_guard.cc:193] This TensorFlow binary is optimized with oneAPI Deep Neural Network Library (oneDNN) to use the following CPU instructions in performance-critical operations:  AVX2 FMA\n",
      "To enable them in other operations, rebuild TensorFlow with the appropriate compiler flags.\n"
     ]
    }
   ],
   "source": [
    "import pennylane as qml\n",
    "from pennylane import numpy as np\n",
    "import tensorflow as tf"
   ]
  },
  {
   "cell_type": "code",
   "execution_count": 2,
   "id": "a0b2c9b9",
   "metadata": {},
   "outputs": [],
   "source": [
    "dev = qml.device('default.mixed', wires=3)"
   ]
  },
  {
   "cell_type": "code",
   "execution_count": 3,
   "id": "87e0ce0e",
   "metadata": {},
   "outputs": [],
   "source": [
    "def real(angles,**kwargs):\n",
    "    qml.Hadamard(wires=0)\n",
    "    qml.Rot(*angles,wires=0)"
   ]
  },
  {
   "cell_type": "code",
   "execution_count": 4,
   "id": "c216a669",
   "metadata": {},
   "outputs": [
    {
     "name": "stdout",
     "output_type": "stream",
     "text": [
      "0: ──H──Rot(a,b,c)─┤  \n"
     ]
    }
   ],
   "source": [
    "drawer = qml.draw(real)\n",
    "w = ['a', 'b', 'c']\n",
    "print(drawer(w))"
   ]
  },
  {
   "cell_type": "code",
   "execution_count": 5,
   "id": "34d10140",
   "metadata": {},
   "outputs": [],
   "source": [
    "def generator(w,**kwargs):\n",
    "    qml.Hadamard(wires=0)\n",
    "    qml.RX(w[0], wires=0)\n",
    "    qml.RX(w[1], wires=1)\n",
    "    qml.RY(w[2], wires=0)\n",
    "    qml.RY(w[3], wires=1)\n",
    "    qml.RZ(w[4], wires=0)\n",
    "    qml.RZ(w[5], wires=1)\n",
    "    qml.CNOT(wires=[0,1])\n",
    "    qml.RX(w[6], wires=0)\n",
    "    qml.RY(w[7], wires=0)\n",
    "    qml.RZ(w[8], wires=0)\n",
    "    qml.BitFlip(p, wires=0)\n",
    "    qml.BitFlip(p, wires=1)"
   ]
  },
  {
   "cell_type": "code",
   "execution_count": 6,
   "id": "5ded552d",
   "metadata": {},
   "outputs": [
    {
     "name": "stdout",
     "output_type": "stream",
     "text": [
      "0: ──H───────RX(w0)──RY(w2)──RZ(w4)─╭●──RX(w6)──────RY(w7)──RZ(w8)──BitFlip(p)─┤  \n",
      "1: ──RX(w1)──RY(w3)──RZ(w5)─────────╰X──BitFlip(p)─────────────────────────────┤  \n",
      "2: ────────────────────────────────────────────────────────────────────────────┤  \n"
     ]
    }
   ],
   "source": [
    "drawer = qml.draw(generator,show_all_wires=True,wire_order=[0,1,2])\n",
    "w = ['w0','w1','w2','w3','w4','w5','w6','w7','w8']\n",
    "p='p'\n",
    "#w = ['w0','w1','w2']\n",
    "print(drawer(w))"
   ]
  },
  {
   "cell_type": "code",
   "execution_count": 7,
   "id": "a921fabd",
   "metadata": {},
   "outputs": [],
   "source": [
    "def discriminator(w):\n",
    "    qml.Hadamard(wires=0)\n",
    "    qml.RX(w[0], wires=0)\n",
    "    qml.RX(w[1], wires=2)\n",
    "    qml.RY(w[2], wires=0)\n",
    "    qml.RY(w[3], wires=2)\n",
    "    qml.RZ(w[4], wires=0)\n",
    "    qml.RZ(w[5], wires=2)\n",
    "    qml.CNOT(wires=[0, 2])\n",
    "    qml.RX(w[6], wires=2)\n",
    "    qml.RY(w[7], wires=2)\n",
    "    qml.RZ(w[8], wires=2)\n",
    "    qml.BitFlip(p, wires=0)\n",
    "    qml.BitFlip(p, wires=2)"
   ]
  },
  {
   "cell_type": "code",
   "execution_count": 8,
   "id": "b7ca1179",
   "metadata": {},
   "outputs": [
    {
     "name": "stdout",
     "output_type": "stream",
     "text": [
      "0: ──H───────RX(w0)──RY(w2)──RZ(w4)─╭●──BitFlip(p)─────────────────────────────┤  \n",
      "1: ─────────────────────────────────│──────────────────────────────────────────┤  \n",
      "2: ──RX(w1)──RY(w3)──RZ(w5)─────────╰X──RX(w6)──────RY(w7)──RZ(w8)──BitFlip(p)─┤  \n"
     ]
    }
   ],
   "source": [
    "drawer = qml.draw(discriminator,show_all_wires=True,wire_order=[0,1,2])\n",
    "w = ['w0','w1','w2','w3','w4','w5','w6','w7','w8']\n",
    "#w = ['w0','w1','w2']\n",
    "print(drawer(w))"
   ]
  },
  {
   "cell_type": "code",
   "execution_count": 9,
   "id": "05df0dc9",
   "metadata": {},
   "outputs": [],
   "source": [
    "@qml.qnode(dev, interface='tf')\n",
    "def real_disc_circuit(phi, theta, omega, disc_weights):\n",
    "    real([phi,theta,omega])\n",
    "    discriminator(disc_weights)\n",
    "    return qml.expval(qml.PauliZ(2))\n",
    "\n",
    "@qml.qnode(dev,interface='tf')\n",
    "def gen_disc_circuit(gen_weights,disc_weights):\n",
    "    generator(gen_weights)\n",
    "    discriminator(disc_weights)\n",
    "    return qml.expval(qml.PauliZ(2))"
   ]
  },
  {
   "cell_type": "code",
   "execution_count": 10,
   "id": "7d128115",
   "metadata": {
    "scrolled": false
   },
   "outputs": [
    {
     "name": "stdout",
     "output_type": "stream",
     "text": [
      "0: ──H───────Rot(a,b,c)──H───────RX(w0)──RY(w2)──RZ(w4)─╭●──BitFlip(p)─────────────────────────────┤\n",
      "1: ─────────────────────────────────────────────────────│──────────────────────────────────────────┤\n",
      "2: ──RX(w1)──RY(w3)──────RZ(w5)─────────────────────────╰X──RX(w6)──────RY(w7)──RZ(w8)──BitFlip(p)─┤\n",
      "\n",
      "      \n",
      "      \n",
      "   <Z>\n"
     ]
    }
   ],
   "source": [
    "drawer = qml.draw(real_disc_circuit,show_all_wires=True,wire_order=[0,1,2])\n",
    "w = ['w0','w1','w2','w3','w4','w5','w6','w7','w8']\n",
    "#w = ['w0','w1','w2']\n",
    "p='p'\n",
    "print(drawer('a', 'b', 'c',w))"
   ]
  },
  {
   "cell_type": "code",
   "execution_count": 11,
   "id": "65db7433",
   "metadata": {},
   "outputs": [
    {
     "name": "stdout",
     "output_type": "stream",
     "text": [
      "0: ──H───────RX(w0)──RY(w2)──RZ(w4)─╭●──RX(w6)──────RY(w7)──RZ(w8)──BitFlip(p)──H──RX(w0)──RY(w2)\n",
      "1: ──RX(w1)──RY(w3)──RZ(w5)─────────╰X──BitFlip(p)───────────────────────────────────────────────\n",
      "2: ──RX(w1)──RY(w3)──RZ(w5)──────────────────────────────────────────────────────────────────────\n",
      "\n",
      "───RZ(w4)─╭●──BitFlip(p)─────────────────────────────┤     \n",
      "──────────│──────────────────────────────────────────┤     \n",
      "──────────╰X──RX(w6)──────RY(w7)──RZ(w8)──BitFlip(p)─┤  <Z>\n"
     ]
    }
   ],
   "source": [
    "drawer = qml.draw(gen_disc_circuit,show_all_wires=True,wire_order=[0,1,2])\n",
    "w = ['w0','w1','w2','w3','w4','w5','w6','w7','w8']\n",
    "#w = ['w0','w1','w2']\n",
    "p='p'\n",
    "print(drawer(w,w))"
   ]
  },
  {
   "cell_type": "code",
   "execution_count": 12,
   "id": "a1962cd4",
   "metadata": {},
   "outputs": [],
   "source": [
    "def prob_real_true(disc_weights):\n",
    "    true_disc_output = real_disc_circuit(phi,theta,omega,disc_weights)\n",
    "    #convert to probability\n",
    "    prob_real_true = (true_disc_output+1)/2\n",
    "    return prob_real_true"
   ]
  },
  {
   "cell_type": "code",
   "execution_count": 13,
   "id": "a66eb466",
   "metadata": {},
   "outputs": [],
   "source": [
    "def prob_fake_true(gen_weights,disc_weights):\n",
    "    fake_disc_output = gen_disc_circuit(gen_weights,disc_weights)\n",
    "    #convert to probability\n",
    "    prob_fake_true = (fake_disc_output+1)/2\n",
    "    return prob_fake_true"
   ]
  },
  {
   "cell_type": "code",
   "execution_count": 14,
   "id": "5ef7f250",
   "metadata": {},
   "outputs": [],
   "source": [
    "def disc_cost(disc_weights):\n",
    "    cost = prob_fake_true(gen_weights,disc_weights)-prob_real_true(disc_weights)\n",
    "    return cost\n",
    "def gen_cost(gen_weights):\n",
    "    cost = -prob_fake_true(gen_weights,disc_weights)\n",
    "    return cost"
   ]
  },
  {
   "cell_type": "code",
   "execution_count": 15,
   "id": "0a287fa1",
   "metadata": {},
   "outputs": [
    {
     "name": "stderr",
     "output_type": "stream",
     "text": [
      "2023-06-07 14:42:35.215108: I tensorflow/core/platform/cpu_feature_guard.cc:193] This TensorFlow binary is optimized with oneAPI Deep Neural Network Library (oneDNN) to use the following CPU instructions in performance-critical operations:  AVX2 FMA\n",
      "To enable them in other operations, rebuild TensorFlow with the appropriate compiler flags.\n"
     ]
    }
   ],
   "source": [
    "ps = [0.001, 0.01, 0.1, 0.2]\n",
    "phi = np.pi / 6\n",
    "theta = np.pi / 2\n",
    "omega = np.pi / 7\n",
    "np.random.seed(0)\n",
    "eps = 1e-2\n",
    "init_gen_weights = np.array([np.pi] + [0] * 8) + \\\n",
    "                   np.random.normal(scale=eps, size=(9,))\n",
    "\n",
    "init_disc_weights = np.random.normal(size=(9,))\n",
    "gen_weights = tf.Variable(init_gen_weights,dtype=tf.float64)\n",
    "disc_weights = tf.Variable(init_disc_weights,dtype=tf.float64)"
   ]
  },
  {
   "cell_type": "code",
   "execution_count": 16,
   "id": "158d9603",
   "metadata": {},
   "outputs": [
    {
     "name": "stdout",
     "output_type": "stream",
     "text": [
      "Step 0: cost = -0.055469478423124885\n",
      "Step 5: cost = -0.2532281247347584\n",
      "Step 10: cost = -0.4149900777997543\n",
      "Step 15: cost = -0.46199155167881883\n",
      "Step 20: cost = -0.4738802598917118\n",
      "Step 25: cost = -0.4793318709505633\n",
      "Step 30: cost = -0.4827181645328349\n",
      "Step 35: cost = -0.48489237915053107\n",
      "Step 40: cost = -0.4862584706234976\n",
      "Step 45: cost = -0.4870984246252762\n"
     ]
    }
   ],
   "source": [
    "p = 0.01\n",
    "opt = tf.keras.optimizers.experimental.SGD(learning_rate=0.4)\n",
    "\n",
    "var = disc_weights\n",
    "loss = lambda: disc_cost(disc_weights)         # d(loss)/d(var1) = var1\n",
    "\n",
    "for step in range(50):\n",
    "    opt.minimize(loss, [var])\n",
    "    if step % 5 == 0:\n",
    "        loss_val = loss().numpy()\n",
    "        print(\"Step {}: cost = {}\".format(step, loss_val))"
   ]
  },
  {
   "cell_type": "code",
   "execution_count": 17,
   "id": "01e2e547",
   "metadata": {},
   "outputs": [
    {
     "name": "stdout",
     "output_type": "stream",
     "text": [
      "var_g = <tf.Variable 'Variable:0' shape=(9,) dtype=float64, numpy=\n",
      "array([ 3.15923318e+00,  4.00157208e-03,  9.78737984e-03,  2.24089320e-02,\n",
      "        1.86755799e-02, -9.77277880e-03,  9.50088418e-03, -1.51357208e-03,\n",
      "       -1.03218852e-03])>\n",
      "loss = tf.Tensor(-0.5009836040606368, shape=(), dtype=float64)\n",
      "Step 0: cost = -0.5773254485877835\n",
      "Step 5: cost = -0.8685948537860002\n",
      "Step 10: cost = -0.9569599638382617\n",
      "Step 15: cost = -0.974670896300651\n",
      "Step 20: cost = -0.9791123363542008\n",
      "Step 25: cost = -0.9804213959173773\n",
      "Step 30: cost = -0.9808281714281447\n",
      "Step 35: cost = -0.9809566964069816\n",
      "Step 40: cost = -0.9809975615007592\n",
      "Step 45: cost = -0.9810105917477785\n"
     ]
    }
   ],
   "source": [
    "opt = tf.keras.optimizers.legacy.SGD(learning_rate=0.4)\n",
    "var_g = gen_weights\n",
    "print('var_g =',var_g)\n",
    "\n",
    "loss = lambda: gen_cost(gen_weights)         # d(loss)/d(var1) = var1\n",
    "print('loss =',gen_cost(gen_weights))\n",
    "\n",
    "for step in range(50):\n",
    "    opt.minimize(loss, [var_g])\n",
    "    if step % 5 == 0:\n",
    "        loss_val = loss().numpy()\n",
    "        print(\"Step {}: cost = {}\".format(step, loss_val))"
   ]
  },
  {
   "cell_type": "code",
   "execution_count": 18,
   "id": "b7b860cc",
   "metadata": {},
   "outputs": [
    {
     "name": "stdout",
     "output_type": "stream",
     "text": [
      "Prob(fake classified as real):  0.9810142517850478\n"
     ]
    }
   ],
   "source": [
    "print(\"Prob(fake classified as real): \", prob_fake_true(var_g, var).numpy())"
   ]
  },
  {
   "cell_type": "code",
   "execution_count": 19,
   "id": "47bf556e",
   "metadata": {},
   "outputs": [
    {
     "name": "stdout",
     "output_type": "stream",
     "text": [
      "Discriminator cost:  -0.007494412532056627\n"
     ]
    }
   ],
   "source": [
    "print(\"Discriminator cost: \", disc_cost(var).numpy())"
   ]
  },
  {
   "cell_type": "code",
   "execution_count": 20,
   "id": "88f1e440",
   "metadata": {},
   "outputs": [
    {
     "name": "stdout",
     "output_type": "stream",
     "text": [
      "Real Bloch vector: [tensor(-0.21694187, requires_grad=True), tensor(0.45048443, requires_grad=True), tensor(-0.8660254, requires_grad=True)]\n",
      "\n",
      "Generator Bloch vector: [<tf.Tensor: shape=(), dtype=float64, numpy=-0.29110247013463064>, <tf.Tensor: shape=(), dtype=float64, numpy=0.40761957251317665>, <tf.Tensor: shape=(), dtype=float64, numpy=-0.8443072594988499>]\n"
     ]
    }
   ],
   "source": [
    "obs = [qml.PauliX(0), qml.PauliY(0), qml.PauliZ(0)]\n",
    "\n",
    "@qml.qnode(dev, interface=\"tf\")\n",
    "def bloch_vector_real(angles):\n",
    "    real(angles)\n",
    "    return [qml.expval(o) for o in obs]\n",
    "\n",
    "@qml.qnode(dev, interface=\"tf\")\n",
    "def bloch_vector_generator(angles):\n",
    "    generator(angles)\n",
    "    return [qml.expval(o) for o in obs]\n",
    "\n",
    "print(f\"Real Bloch vector: {bloch_vector_real([phi, theta, omega])}\")\n",
    "print()\n",
    "print(f\"Generator Bloch vector: {bloch_vector_generator(var_g)}\")"
   ]
  },
  {
   "cell_type": "code",
   "execution_count": 21,
   "id": "56b3c37e",
   "metadata": {},
   "outputs": [],
   "source": [
    "@qml.qnode(dev, interface=\"tf\")\n",
    "def circuit_gs(angles):\n",
    "    generator(angles)\n",
    "    return qml.state()\n",
    "@qml.qnode(dev, interface=\"tf\")\n",
    "def circuit_rs(angles):\n",
    "    real(angles)\n",
    "    return qml.state()"
   ]
  },
  {
   "cell_type": "code",
   "execution_count": 22,
   "id": "6c077ffa",
   "metadata": {},
   "outputs": [
    {
     "data": {
      "text/plain": [
       "<tf.Tensor: shape=(), dtype=float64, numpy=0.05538232933601181>"
      ]
     },
     "execution_count": 22,
     "metadata": {},
     "output_type": "execute_result"
    }
   ],
   "source": [
    "qml.math.fidelity(circuit_rs([phi, theta, omega]), circuit_gs(var_g))"
   ]
  },
  {
   "cell_type": "code",
   "execution_count": 23,
   "id": "0ead5cfa",
   "metadata": {},
   "outputs": [
    {
     "name": "stdout",
     "output_type": "stream",
     "text": [
      "Step 0: cost = -0.05727697679579291\n",
      "Step 5: cost = -0.2634812508449125\n",
      "Step 10: cost = -0.42739188533175787\n",
      "Step 15: cost = -0.4726159748418687\n",
      "Step 20: cost = -0.4840689974053145\n",
      "Step 25: cost = -0.48946413443471104\n",
      "Step 30: cost = -0.49281877884753467\n",
      "Step 35: cost = -0.4949493282586541\n",
      "Step 40: cost = -0.4962703876869824\n",
      "Step 45: cost = -0.4970720262026571\n",
      "Step 0: cost = -0.5833387118384168\n",
      "Step 5: cost = -0.8915733598437553\n",
      "Step 10: cost = -0.9784243532820139\n",
      "Step 15: cost = -0.9946483809432254\n",
      "Step 20: cost = -0.9984996426172696\n",
      "Step 25: cost = -0.999563846400684\n",
      "Step 30: cost = -0.9998717844534892\n",
      "Step 35: cost = -0.9999621462112538\n",
      "Step 40: cost = -0.9999888012418668\n",
      "Step 45: cost = -0.99999668250241\n",
      "Step 0: cost = 0.0003382197439346646\n",
      "Step 5: cost = -0.0004003492094766248\n",
      "Step 10: cost = -0.0010992242024825405\n",
      "Step 15: cost = -0.0017676968184608954\n",
      "Step 20: cost = -0.002415195479697485\n",
      "Step 25: cost = -0.0030511390834824237\n",
      "Step 30: cost = -0.0036848183680038282\n",
      "Step 35: cost = -0.004325293282281595\n",
      "Step 40: cost = -0.004981294747315124\n",
      "Step 45: cost = -0.005661120149087817\n",
      "Step 0: cost = -0.9934021493059242\n",
      "Step 5: cost = -0.9975280971795386\n",
      "Step 10: cost = -0.9979109958267425\n",
      "Step 15: cost = -0.9979871560994303\n",
      "Step 20: cost = -0.9980075530749508\n",
      "Step 25: cost = -0.9980134129307567\n",
      "Step 30: cost = -0.998015124702242\n",
      "Step 35: cost = -0.9980156269721292\n",
      "Step 40: cost = -0.9980157745351008\n",
      "Step 45: cost = -0.9980158179033305\n",
      "Step 0: cost = -0.007183197301559141\n",
      "Step 5: cost = -0.008462863593936332\n",
      "Step 10: cost = -0.009680692718645911\n",
      "Step 15: cost = -0.010869889158861112\n",
      "Step 20: cost = -0.012061315576590403\n",
      "Step 25: cost = -0.013282937275373996\n",
      "Step 30: cost = -0.014559290004521275\n",
      "Step 35: cost = -0.015910886123557066\n",
      "Step 40: cost = -0.017353524986236324\n",
      "Step 45: cost = -0.018897529859213114\n",
      "Step 0: cost = -0.9699640244696961\n",
      "Step 5: cost = -0.9801233604954809\n",
      "Step 10: cost = -0.9812597285489573\n",
      "Step 15: cost = -0.9815322824240478\n",
      "Step 20: cost = -0.981616111716725\n",
      "Step 25: cost = -0.981642991590582\n",
      "Step 30: cost = -0.9816516751129767\n",
      "Step 35: cost = -0.9816544862397547\n",
      "Step 40: cost = -0.9816553971162697\n",
      "Step 45: cost = -0.9816556924020361\n",
      "Step 0: cost = -0.06416227403236752\n",
      "Step 5: cost = -0.07294420004675761\n",
      "Step 10: cost = -0.0785078113847617\n",
      "Step 15: cost = -0.0819784299074694\n",
      "Step 20: cost = -0.08417383647198973\n",
      "Step 25: cost = -0.08563177140049727\n",
      "Step 30: cost = -0.08668838544315538\n",
      "Step 35: cost = -0.08754942213046502\n",
      "Step 40: cost = -0.08834074102961043\n",
      "Step 45: cost = -0.0891405140340863\n",
      "Step 0: cost = -0.8013229004862246\n",
      "Step 5: cost = -0.8148684092961276\n",
      "Step 10: cost = -0.818393303159445\n",
      "Step 15: cost = -0.819504853020123\n",
      "Step 20: cost = -0.8199253421682589\n",
      "Step 25: cost = -0.8201031258322322\n",
      "Step 30: cost = -0.8201826511363612\n",
      "Step 35: cost = -0.8202192082682314\n",
      "Step 40: cost = -0.8202362407210961\n",
      "Step 45: cost = -0.8202442307021819\n"
     ]
    }
   ],
   "source": [
    "ps = [0.0, 0.001, 0.01, 0.1]\n",
    "phi = np.pi / 6\n",
    "theta = np.pi / 2\n",
    "omega = np.pi / 7\n",
    "np.random.seed(0)\n",
    "eps = 1e-2\n",
    "init_gen_weights = np.array([np.pi] + [0] * 8) + \\\n",
    "                   np.random.normal(scale=eps, size=(9,))\n",
    "\n",
    "init_disc_weights = np.random.normal(size=(9,))\n",
    "gen_weights = tf.Variable(init_gen_weights,dtype=tf.float64)\n",
    "disc_weights = tf.Variable(init_disc_weights,dtype=tf.float64)\n",
    "\n",
    "F_b = []\n",
    "F_s = []\n",
    "\n",
    "for i in ps:\n",
    "    opt = tf.keras.optimizers.experimental.SGD(learning_rate=0.4)\n",
    "    p = i\n",
    "    var = disc_weights\n",
    "    loss = lambda: disc_cost(disc_weights)         # d(loss)/d(var1) = var1\n",
    "    for step in range(50):\n",
    "        opt.minimize(loss, [var])\n",
    "        if step % 5 == 0:\n",
    "            loss_val = loss().numpy()\n",
    "            print(\"Step {}: cost = {}\".format(step, loss_val))\n",
    "        \n",
    "    opt = tf.keras.optimizers.legacy.SGD(learning_rate=0.4)\n",
    "    var_g = gen_weights\n",
    "    loss = lambda: gen_cost(gen_weights)         # d(loss)/d(var1) = var1\n",
    "    for step in range(50):\n",
    "        opt.minimize(loss, [var_g])\n",
    "        if step % 5 == 0:\n",
    "            loss_val = loss().numpy()\n",
    "            print(\"Step {}: cost = {}\".format(step, loss_val))    \n",
    "    red_r = qml.math.reduced_dm(circuit_rs([phi, theta, omega]),indices=[0])\n",
    "    red_g = qml.math.reduced_dm(circuit_gs(var_g),indices=[0])\n",
    "    state_fidelity = qml.math.fidelity(red_r, red_g)\n",
    "    bloch_vector_fidelity = qml.math.fidelity(bloch_vector_real([phi, theta, omega]), bloch_vector_generator(var_g))\n",
    "    F_s.append( state_fidelity)\n",
    "    F_b.append( bloch_vector_fidelity)"
   ]
  },
  {
   "cell_type": "code",
   "execution_count": 24,
   "id": "8289fed1",
   "metadata": {},
   "outputs": [
    {
     "data": {
      "image/png": "[encoded data removed]",
      "text/plain": [
       "<Figure size 1000x500 with 1 Axes>"
      ]
     },
     "metadata": {},
     "output_type": "display_data"
    }
   ],
   "source": [
    "import matplotlib.pyplot as plt\n",
    "plt.figure(figsize=(10, 5))\n",
    "plt.plot(ps, F_s, label=\"state_fidelity\")\n",
    "plt.plot(ps, F_b, label=\"bloch_vector_overlap\")\n",
    "plt.title(\"Fidelity_real_generated data\")\n",
    "plt.xlabel(\"Bitflip_Noise\")\n",
    "plt.legend()\n",
    "plt.show()"
   ]
  },
  {
   "cell_type": "code",
   "execution_count": null,
   "id": "80816542",
   "metadata": {},
   "outputs": [],
   "source": []
  }
 ],
 "metadata": {
  "kernelspec": {
   "display_name": "Python 3 (ipykernel)",
   "language": "python",
   "name": "python3"
  },
  "language_info": {
   "codemirror_mode": {
    "name": "ipython",
    "version": 3
   },
   "file_extension": ".py",
   "mimetype": "text/x-python",
   "name": "python",
   "nbconvert_exporter": "python",
   "pygments_lexer": "ipython3",
   "version": "3.9.13"
  }
 },
 "nbformat": 4,
 "nbformat_minor": 5
}
